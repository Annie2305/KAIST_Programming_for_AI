{
  "nbformat": 4,
  "nbformat_minor": 0,
  "metadata": {
    "colab": {
      "provenance": [],
      "gpuType": "T4"
    },
    "kernelspec": {
      "name": "python3",
      "display_name": "Python 3"
    },
    "language_info": {
      "name": "python"
    },
    "accelerator": "GPU"
  },
  "cells": [
    {
      "cell_type": "code",
      "source": [
        "# Code Cell 1\n",
        "!pip install datasets==4.0.0\n",
        "!pip install transformers==4.56.1\n",
        "########## [TODO] Install packages used in your .py file with specified version ############\n",
        "# You must only add code below this line, within this cell.\n",
        "\n",
        "!pip install numpy==2.1.3 tqdm==4.66.5"
      ],
      "metadata": {
        "id": "bTu5MetfV_00",
        "colab": {
          "base_uri": "https://localhost:8080/"
        },
        "outputId": "a313d4c6-836d-432e-a69c-9de9af99a76f"
      },
      "execution_count": 1,
      "outputs": [
        {
          "output_type": "stream",
          "name": "stdout",
          "text": [
            "Requirement already satisfied: datasets==4.0.0 in /usr/local/lib/python3.12/dist-packages (4.0.0)\n",
            "Requirement already satisfied: filelock in /usr/local/lib/python3.12/dist-packages (from datasets==4.0.0) (3.20.0)\n",
            "Requirement already satisfied: numpy>=1.17 in /usr/local/lib/python3.12/dist-packages (from datasets==4.0.0) (2.1.3)\n",
            "Requirement already satisfied: pyarrow>=15.0.0 in /usr/local/lib/python3.12/dist-packages (from datasets==4.0.0) (18.1.0)\n",
            "Requirement already satisfied: dill<0.3.9,>=0.3.0 in /usr/local/lib/python3.12/dist-packages (from datasets==4.0.0) (0.3.8)\n",
            "Requirement already satisfied: pandas in /usr/local/lib/python3.12/dist-packages (from datasets==4.0.0) (2.2.2)\n",
            "Requirement already satisfied: requests>=2.32.2 in /usr/local/lib/python3.12/dist-packages (from datasets==4.0.0) (2.32.4)\n",
            "Requirement already satisfied: tqdm>=4.66.3 in /usr/local/lib/python3.12/dist-packages (from datasets==4.0.0) (4.66.5)\n",
            "Requirement already satisfied: xxhash in /usr/local/lib/python3.12/dist-packages (from datasets==4.0.0) (3.6.0)\n",
            "Requirement already satisfied: multiprocess<0.70.17 in /usr/local/lib/python3.12/dist-packages (from datasets==4.0.0) (0.70.16)\n",
            "Requirement already satisfied: fsspec<=2025.3.0,>=2023.1.0 in /usr/local/lib/python3.12/dist-packages (from fsspec[http]<=2025.3.0,>=2023.1.0->datasets==4.0.0) (2025.3.0)\n",
            "Requirement already satisfied: huggingface-hub>=0.24.0 in /usr/local/lib/python3.12/dist-packages (from datasets==4.0.0) (0.35.3)\n",
            "Requirement already satisfied: packaging in /usr/local/lib/python3.12/dist-packages (from datasets==4.0.0) (25.0)\n",
            "Requirement already satisfied: pyyaml>=5.1 in /usr/local/lib/python3.12/dist-packages (from datasets==4.0.0) (6.0.3)\n",
            "Requirement already satisfied: aiohttp!=4.0.0a0,!=4.0.0a1 in /usr/local/lib/python3.12/dist-packages (from fsspec[http]<=2025.3.0,>=2023.1.0->datasets==4.0.0) (3.13.0)\n",
            "Requirement already satisfied: typing-extensions>=3.7.4.3 in /usr/local/lib/python3.12/dist-packages (from huggingface-hub>=0.24.0->datasets==4.0.0) (4.15.0)\n",
            "Requirement already satisfied: hf-xet<2.0.0,>=1.1.3 in /usr/local/lib/python3.12/dist-packages (from huggingface-hub>=0.24.0->datasets==4.0.0) (1.1.10)\n",
            "Requirement already satisfied: charset_normalizer<4,>=2 in /usr/local/lib/python3.12/dist-packages (from requests>=2.32.2->datasets==4.0.0) (3.4.4)\n",
            "Requirement already satisfied: idna<4,>=2.5 in /usr/local/lib/python3.12/dist-packages (from requests>=2.32.2->datasets==4.0.0) (3.11)\n",
            "Requirement already satisfied: urllib3<3,>=1.21.1 in /usr/local/lib/python3.12/dist-packages (from requests>=2.32.2->datasets==4.0.0) (2.5.0)\n",
            "Requirement already satisfied: certifi>=2017.4.17 in /usr/local/lib/python3.12/dist-packages (from requests>=2.32.2->datasets==4.0.0) (2025.10.5)\n",
            "Requirement already satisfied: python-dateutil>=2.8.2 in /usr/local/lib/python3.12/dist-packages (from pandas->datasets==4.0.0) (2.9.0.post0)\n",
            "Requirement already satisfied: pytz>=2020.1 in /usr/local/lib/python3.12/dist-packages (from pandas->datasets==4.0.0) (2025.2)\n",
            "Requirement already satisfied: tzdata>=2022.7 in /usr/local/lib/python3.12/dist-packages (from pandas->datasets==4.0.0) (2025.2)\n",
            "Requirement already satisfied: aiohappyeyeballs>=2.5.0 in /usr/local/lib/python3.12/dist-packages (from aiohttp!=4.0.0a0,!=4.0.0a1->fsspec[http]<=2025.3.0,>=2023.1.0->datasets==4.0.0) (2.6.1)\n",
            "Requirement already satisfied: aiosignal>=1.4.0 in /usr/local/lib/python3.12/dist-packages (from aiohttp!=4.0.0a0,!=4.0.0a1->fsspec[http]<=2025.3.0,>=2023.1.0->datasets==4.0.0) (1.4.0)\n",
            "Requirement already satisfied: attrs>=17.3.0 in /usr/local/lib/python3.12/dist-packages (from aiohttp!=4.0.0a0,!=4.0.0a1->fsspec[http]<=2025.3.0,>=2023.1.0->datasets==4.0.0) (25.4.0)\n",
            "Requirement already satisfied: frozenlist>=1.1.1 in /usr/local/lib/python3.12/dist-packages (from aiohttp!=4.0.0a0,!=4.0.0a1->fsspec[http]<=2025.3.0,>=2023.1.0->datasets==4.0.0) (1.8.0)\n",
            "Requirement already satisfied: multidict<7.0,>=4.5 in /usr/local/lib/python3.12/dist-packages (from aiohttp!=4.0.0a0,!=4.0.0a1->fsspec[http]<=2025.3.0,>=2023.1.0->datasets==4.0.0) (6.7.0)\n",
            "Requirement already satisfied: propcache>=0.2.0 in /usr/local/lib/python3.12/dist-packages (from aiohttp!=4.0.0a0,!=4.0.0a1->fsspec[http]<=2025.3.0,>=2023.1.0->datasets==4.0.0) (0.4.1)\n",
            "Requirement already satisfied: yarl<2.0,>=1.17.0 in /usr/local/lib/python3.12/dist-packages (from aiohttp!=4.0.0a0,!=4.0.0a1->fsspec[http]<=2025.3.0,>=2023.1.0->datasets==4.0.0) (1.22.0)\n",
            "Requirement already satisfied: six>=1.5 in /usr/local/lib/python3.12/dist-packages (from python-dateutil>=2.8.2->pandas->datasets==4.0.0) (1.17.0)\n",
            "Requirement already satisfied: transformers==4.56.1 in /usr/local/lib/python3.12/dist-packages (4.56.1)\n",
            "Requirement already satisfied: filelock in /usr/local/lib/python3.12/dist-packages (from transformers==4.56.1) (3.20.0)\n",
            "Requirement already satisfied: huggingface-hub<1.0,>=0.34.0 in /usr/local/lib/python3.12/dist-packages (from transformers==4.56.1) (0.35.3)\n",
            "Requirement already satisfied: numpy>=1.17 in /usr/local/lib/python3.12/dist-packages (from transformers==4.56.1) (2.1.3)\n",
            "Requirement already satisfied: packaging>=20.0 in /usr/local/lib/python3.12/dist-packages (from transformers==4.56.1) (25.0)\n",
            "Requirement already satisfied: pyyaml>=5.1 in /usr/local/lib/python3.12/dist-packages (from transformers==4.56.1) (6.0.3)\n",
            "Requirement already satisfied: regex!=2019.12.17 in /usr/local/lib/python3.12/dist-packages (from transformers==4.56.1) (2024.11.6)\n",
            "Requirement already satisfied: requests in /usr/local/lib/python3.12/dist-packages (from transformers==4.56.1) (2.32.4)\n",
            "Requirement already satisfied: tokenizers<=0.23.0,>=0.22.0 in /usr/local/lib/python3.12/dist-packages (from transformers==4.56.1) (0.22.1)\n",
            "Requirement already satisfied: safetensors>=0.4.3 in /usr/local/lib/python3.12/dist-packages (from transformers==4.56.1) (0.6.2)\n",
            "Requirement already satisfied: tqdm>=4.27 in /usr/local/lib/python3.12/dist-packages (from transformers==4.56.1) (4.66.5)\n",
            "Requirement already satisfied: fsspec>=2023.5.0 in /usr/local/lib/python3.12/dist-packages (from huggingface-hub<1.0,>=0.34.0->transformers==4.56.1) (2025.3.0)\n",
            "Requirement already satisfied: typing-extensions>=3.7.4.3 in /usr/local/lib/python3.12/dist-packages (from huggingface-hub<1.0,>=0.34.0->transformers==4.56.1) (4.15.0)\n",
            "Requirement already satisfied: hf-xet<2.0.0,>=1.1.3 in /usr/local/lib/python3.12/dist-packages (from huggingface-hub<1.0,>=0.34.0->transformers==4.56.1) (1.1.10)\n",
            "Requirement already satisfied: charset_normalizer<4,>=2 in /usr/local/lib/python3.12/dist-packages (from requests->transformers==4.56.1) (3.4.4)\n",
            "Requirement already satisfied: idna<4,>=2.5 in /usr/local/lib/python3.12/dist-packages (from requests->transformers==4.56.1) (3.11)\n",
            "Requirement already satisfied: urllib3<3,>=1.21.1 in /usr/local/lib/python3.12/dist-packages (from requests->transformers==4.56.1) (2.5.0)\n",
            "Requirement already satisfied: certifi>=2017.4.17 in /usr/local/lib/python3.12/dist-packages (from requests->transformers==4.56.1) (2025.10.5)\n",
            "Requirement already satisfied: numpy==2.1.3 in /usr/local/lib/python3.12/dist-packages (2.1.3)\n",
            "Requirement already satisfied: tqdm==4.66.5 in /usr/local/lib/python3.12/dist-packages (4.66.5)\n"
          ]
        }
      ]
    },
    {
      "cell_type": "code",
      "source": [
        "# Code Cell 2\n",
        "import datasets\n",
        "import transformers\n",
        "print(datasets.__version__)\n",
        "print(transformers.__version__)"
      ],
      "metadata": {
        "id": "xYtGT3CVs9PM",
        "colab": {
          "base_uri": "https://localhost:8080/"
        },
        "outputId": "5d4e3a10-da8b-436d-eda8-48d99126d9f8"
      },
      "execution_count": 2,
      "outputs": [
        {
          "output_type": "stream",
          "name": "stdout",
          "text": [
            "4.0.0\n",
            "4.56.1\n"
          ]
        }
      ]
    },
    {
      "cell_type": "code",
      "source": [
        "# Code Cell 3 (for train)\n",
        "import os\n",
        "print(os.path.isfile('20256307.py'))\n",
        "!python 20256307.py"
      ],
      "metadata": {
        "id": "_ll7RK8ezZdB",
        "colab": {
          "base_uri": "https://localhost:8080/"
        },
        "outputId": "27943f72-c12f-4f3e-97dc-250891e842db"
      },
      "execution_count": 3,
      "outputs": [
        {
          "output_type": "stream",
          "name": "stdout",
          "text": [
            "True\n",
            "Using device: cuda\n",
            "100% 26.4M/26.4M [00:02<00:00, 12.8MB/s]\n",
            "100% 29.5k/29.5k [00:00<00:00, 202kB/s]\n",
            "100% 4.42M/4.42M [00:01<00:00, 3.75MB/s]\n",
            "100% 5.15k/5.15k [00:00<00:00, 29.7MB/s]\n",
            "Train samples: 54000, Val samples: 6000, Test samples: 10000\n",
            "100% 422/422 [00:40<00:00, 10.36it/s]\n",
            "Epoch 1/40, Loss: 0.9826, Val Accuracy: 82.67%, Best: 82.67%\n",
            "100% 422/422 [00:53<00:00,  7.90it/s]\n",
            "Epoch 2/40, Loss: 0.8146, Val Accuracy: 86.37%, Best: 86.37%\n",
            "100% 422/422 [00:38<00:00, 10.96it/s]\n",
            "Epoch 3/40, Loss: 0.7703, Val Accuracy: 85.80%, Best: 86.37%\n",
            "100% 422/422 [00:39<00:00, 10.67it/s]\n",
            "Epoch 4/40, Loss: 0.7473, Val Accuracy: 89.22%, Best: 89.22%\n",
            "100% 422/422 [00:39<00:00, 10.76it/s]\n",
            "Epoch 5/40, Loss: 0.7325, Val Accuracy: 89.10%, Best: 89.22%\n",
            "100% 422/422 [00:38<00:00, 10.90it/s]\n",
            "Epoch 6/40, Loss: 0.7202, Val Accuracy: 90.40%, Best: 90.40%\n",
            "100% 422/422 [00:39<00:00, 10.80it/s]\n",
            "Epoch 7/40, Loss: 0.7086, Val Accuracy: 90.62%, Best: 90.62%\n",
            "100% 422/422 [00:38<00:00, 11.02it/s]\n",
            "Epoch 8/40, Loss: 0.7024, Val Accuracy: 91.03%, Best: 91.03%\n",
            "100% 422/422 [00:38<00:00, 10.91it/s]\n",
            "Epoch 9/40, Loss: 0.6944, Val Accuracy: 90.97%, Best: 91.03%\n",
            "100% 422/422 [00:38<00:00, 10.85it/s]\n",
            "Epoch 10/40, Loss: 0.6894, Val Accuracy: 91.68%, Best: 91.68%\n",
            "100% 422/422 [00:38<00:00, 10.95it/s]\n",
            "Epoch 11/40, Loss: 0.6816, Val Accuracy: 90.13%, Best: 91.68%\n",
            "100% 422/422 [00:37<00:00, 11.16it/s]\n",
            "Epoch 12/40, Loss: 0.6799, Val Accuracy: 91.93%, Best: 91.93%\n",
            "100% 422/422 [00:37<00:00, 11.27it/s]\n",
            "Epoch 13/40, Loss: 0.6749, Val Accuracy: 91.15%, Best: 91.93%\n",
            "100% 422/422 [00:37<00:00, 11.12it/s]\n",
            "Epoch 14/40, Loss: 0.6698, Val Accuracy: 91.15%, Best: 91.93%\n",
            "100% 422/422 [00:38<00:00, 10.93it/s]\n",
            "Epoch 15/40, Loss: 0.6664, Val Accuracy: 91.92%, Best: 91.93%\n",
            "100% 422/422 [00:37<00:00, 11.12it/s]\n",
            "Epoch 16/40, Loss: 0.6641, Val Accuracy: 91.23%, Best: 91.93%\n",
            "100% 422/422 [00:37<00:00, 11.32it/s]\n",
            "Epoch 17/40, Loss: 0.6599, Val Accuracy: 92.52%, Best: 92.52%\n",
            "100% 422/422 [00:37<00:00, 11.15it/s]\n",
            "Epoch 18/40, Loss: 0.6562, Val Accuracy: 91.53%, Best: 92.52%\n",
            "100% 422/422 [00:38<00:00, 11.01it/s]\n",
            "Epoch 19/40, Loss: 0.6532, Val Accuracy: 92.80%, Best: 92.80%\n",
            "100% 422/422 [00:37<00:00, 11.18it/s]\n",
            "Epoch 20/40, Loss: 0.6492, Val Accuracy: 92.12%, Best: 92.80%\n",
            "100% 422/422 [00:38<00:00, 11.00it/s]\n",
            "Epoch 21/40, Loss: 0.6477, Val Accuracy: 92.65%, Best: 92.80%\n",
            "100% 422/422 [00:37<00:00, 11.23it/s]\n",
            "Epoch 22/40, Loss: 0.6438, Val Accuracy: 93.17%, Best: 93.17%\n",
            "100% 422/422 [00:37<00:00, 11.41it/s]\n",
            "Epoch 23/40, Loss: 0.6420, Val Accuracy: 92.40%, Best: 93.17%\n",
            "100% 422/422 [00:36<00:00, 11.48it/s]\n",
            "Epoch 24/40, Loss: 0.6398, Val Accuracy: 92.55%, Best: 93.17%\n",
            "100% 422/422 [00:34<00:00, 12.18it/s]\n",
            "Epoch 25/40, Loss: 0.6370, Val Accuracy: 93.02%, Best: 93.17%\n",
            "100% 422/422 [00:34<00:00, 12.41it/s]\n",
            "Epoch 26/40, Loss: 0.6330, Val Accuracy: 92.62%, Best: 93.17%\n",
            "100% 422/422 [00:34<00:00, 12.13it/s]\n",
            "Epoch 27/40, Loss: 0.6331, Val Accuracy: 92.70%, Best: 93.17%\n",
            "100% 422/422 [00:34<00:00, 12.30it/s]\n",
            "Epoch 28/40, Loss: 0.6289, Val Accuracy: 93.60%, Best: 93.60%\n",
            "100% 422/422 [00:34<00:00, 12.26it/s]\n",
            "Epoch 29/40, Loss: 0.6283, Val Accuracy: 93.10%, Best: 93.60%\n",
            "100% 422/422 [00:34<00:00, 12.24it/s]\n",
            "Epoch 30/40, Loss: 0.6271, Val Accuracy: 93.13%, Best: 93.60%\n",
            "100% 422/422 [00:36<00:00, 11.63it/s]\n",
            "Epoch 31/40, Loss: 0.6250, Val Accuracy: 93.58%, Best: 93.60%\n",
            "100% 422/422 [00:36<00:00, 11.43it/s]\n",
            "Epoch 32/40, Loss: 0.6232, Val Accuracy: 93.03%, Best: 93.60%\n",
            "100% 422/422 [00:36<00:00, 11.62it/s]\n",
            "Epoch 33/40, Loss: 0.6211, Val Accuracy: 93.37%, Best: 93.60%\n",
            "100% 422/422 [00:36<00:00, 11.41it/s]\n",
            "Epoch 34/40, Loss: 0.6189, Val Accuracy: 93.33%, Best: 93.60%\n",
            "100% 422/422 [00:36<00:00, 11.44it/s]\n",
            "Epoch 35/40, Loss: 0.6183, Val Accuracy: 93.55%, Best: 93.60%\n",
            "100% 422/422 [00:35<00:00, 11.99it/s]\n",
            "Epoch 36/40, Loss: 0.6148, Val Accuracy: 93.45%, Best: 93.60%\n",
            "100% 422/422 [00:35<00:00, 11.74it/s]\n",
            "Epoch 37/40, Loss: 0.6142, Val Accuracy: 93.13%, Best: 93.60%\n",
            "100% 422/422 [00:35<00:00, 11.79it/s]\n",
            "Epoch 38/40, Loss: 0.6117, Val Accuracy: 93.57%, Best: 93.60%\n",
            "100% 422/422 [00:34<00:00, 12.07it/s]\n",
            "Epoch 39/40, Loss: 0.6109, Val Accuracy: 93.78%, Best: 93.78%\n",
            "100% 422/422 [00:35<00:00, 11.77it/s]\n",
            "Epoch 40/40, Loss: 0.6087, Val Accuracy: 93.42%, Best: 93.78%\n",
            "Logits shape: (10000, 10)\n"
          ]
        }
      ]
    },
    {
      "cell_type": "code",
      "source": [
        "import torch\n",
        "from test import evaluate\n",
        "\n",
        "print(torch.__version__)\n",
        "evaluate('20256307.npy')"
      ],
      "metadata": {
        "id": "nKSHvyFV6vMv",
        "colab": {
          "base_uri": "https://localhost:8080/"
        },
        "outputId": "2d0aa791-cac8-4fe6-c722-9f539ff52311"
      },
      "execution_count": 4,
      "outputs": [
        {
          "output_type": "stream",
          "name": "stdout",
          "text": [
            "2.8.0+cu126\n",
            "Using device: cuda\n",
            "Test dataset size: 10000\n",
            "20256307 - Accuracy: 93.21%\n"
          ]
        }
      ]
    },
    {
      "cell_type": "code",
      "source": [],
      "metadata": {
        "id": "3wmV25zE7wZp"
      },
      "execution_count": null,
      "outputs": []
    }
  ]
}